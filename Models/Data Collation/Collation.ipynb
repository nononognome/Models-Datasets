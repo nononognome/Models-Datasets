{
 "cells": [
  {
   "cell_type": "code",
   "execution_count": null,
   "metadata": {},
   "outputs": [],
   "source": [
    "import pandas as pd\n",
    "from matplotlib import pyplot as plt\n",
    "import tikzplotlib\n",
    "import os"
   ]
  },
  {
   "cell_type": "markdown",
   "metadata": {},
   "source": [
    "# SPECTROGRAM ANN TYPES"
   ]
  },
  {
   "cell_type": "code",
   "execution_count": null,
   "metadata": {},
   "outputs": [],
   "source": [
    "SPECTROGRAMS = ['spectrograms', 'mel_spectrograms', 'mfcc_spectrograms', 'cqt_spectrograms']\n",
    "VARIABLES = ['n_fft', 'hop_length', 'win_length', 'n_mels', 'n_mfcc']"
   ]
  },
  {
   "cell_type": "code",
   "execution_count": null,
   "metadata": {},
   "outputs": [],
   "source": [
    "FILEPATH = \"../IST non-JNB results/spectrogram_tensors\""
   ]
  },
  {
   "cell_type": "code",
   "execution_count": null,
   "metadata": {},
   "outputs": [],
   "source": [
    "columns = ['type', 'n_fft', 'hop_len', 'win_len', 'n_mel', 'n_mfcc', 'Accuracy', 'Epoch', 'Test Loss', 'F1', 'Recall', 'Precision', 'AUC-ROC', 'Confusion Matrix', 'Train Accuracy', 'Train Loss', 'Train F1', 'Train Recall', 'Train Precision', 'Train AUC-ROC', 'Train Confusion Matrix']\n",
    "spectrograms = pd.DataFrame(columns=columns)\n",
    "\n",
    "for folder in os.listdir(f\"{FILEPATH}/mel_spectrograms\"):\n",
    "    if folder != \".DS_Store\":\n",
    "        # Load data\n",
    "        test = pd.read_csv(f\"{FILEPATH}/mel_spectrograms/{folder}/test.csv\", index_col=None)\n",
    "        train = pd.read_csv(f\"{FILEPATH}/mel_spectrograms/{folder}/test.csv\", index_col=None)\n",
    "\n",
    "        test.drop(test.columns[0], axis=1, inplace=True)\n",
    "        train.drop(train.columns[0], axis=1, inplace=True)\n",
    "\n",
    "        # Find index of highest accuracy in test set\n",
    "        idx_test = test['Accuracy'].idxmax()\n",
    "\n",
    "        # Get row with highest accuracy in test set\n",
    "        highest_test_row = test.loc[idx_test].copy()\n",
    "\n",
    "        # Rename and drop columns in the test row\n",
    "        highest_train_row = test.loc[idx_test].drop(columns=[\"Epoch\"]).rename({\"Accuracy\": \"Train Accuracy\", \"Test Loss\": \"Train Loss\", \"F1\": \"Train F1\", \"Recall\": \"Train Recall\", \"Precision\": \"Train Precision\", \"AUC-ROC\": \"Train AUC-ROC\", \"Confusion Matrix\": \"Train Confusion Matrix\"}).copy()\n",
    "\n",
    "        # Split folder name to extract information\n",
    "        info = folder.split('-')\n",
    "        data_info = {'type': 'mel', 'n_fft': info[0], 'hop_len': info[1], 'win_len': info[2], 'n_mel': info[3], 'n_mfcc': 0}\n",
    "\n",
    "        # Assign values to additional columns\n",
    "        for col, value in data_info.items():\n",
    "            highest_test_row[col] = value\n",
    "            highest_train_row[col] = value\n",
    "\n",
    "        # Concatenate highest_test_row and highest_train_row along the column axis\n",
    "        full_row = pd.concat([highest_test_row, highest_train_row], axis=1)\n",
    "\n",
    "\n",
    "        # Append full_row to spectrograms DataFrame\n",
    "        spectrograms = pd.concat([spectrograms, full_row])\n",
    "\n",
    "\n",
    "for folder in os.listdir(f\"{FILEPATH}/mfcc_spectrograms\"):\n",
    "    if folder != \".DS_Store\":\n",
    "        # Load data\n",
    "        test = pd.read_csv(f\"{FILEPATH}/mfcc_spectrograms/{folder}/test.csv\", index_col=None)\n",
    "        train = pd.read_csv(f\"{FILEPATH}/mfcc_spectrograms/{folder}/test.csv\", index_col=None)\n",
    "\n",
    "        # Find index of highest accuracy in test set\n",
    "        idx_test = test['Accuracy'].idxmax()\n",
    "\n",
    "        # Get row with highest accuracy in test set\n",
    "        highest_test_row = test.loc[idx_test].copy()\n",
    "\n",
    "        # Rename and drop columns in the test row\n",
    "        highest_train_row = test.loc[idx_test].drop(columns=[\"Epoch\"]).rename({\"Accuracy\": \"Train Accuracy\", \"Test Loss\": \"Train Loss\", \"F1\": \"Train F1\", \"Recall\": \"Train Recall\", \"Precision\": \"Train Precision\", \"AUC-ROC\": \"Train AUC-ROC\", \"Confusion Matrix\": \"Train Confusion Matrix\"}).copy()\n",
    "\n",
    "        # Split folder name to extract information\n",
    "        info = folder.split('-')\n",
    "        data_info = {'type': 'mfcc', 'n_fft': info[0], 'hop_len': info[1], 'win_len': info[2], 'n_mel': info[3], 'n_mfcc': info[4]}\n",
    "\n",
    "        # Assign values to additional columns\n",
    "        for col, value in data_info.items():\n",
    "            highest_test_row[col] = value\n",
    "            highest_train_row[col] = value\n",
    "\n",
    "        # Concatenate highest_test_row and highest_train_row along the column axis\n",
    "        full_row = pd.concat([highest_test_row, highest_train_row], axis=1)\n",
    "\n",
    "        # Append full_row to spectrograms DataFrame\n",
    "        spectrograms = pd.concat([spectrograms, full_row])\n",
    "\n",
    "\n",
    "for folder in os.listdir(f\"{FILEPATH}/cqt_spectrograms\"):\n",
    "    if folder != \".DS_Store\":\n",
    "        # Load data\n",
    "        test = pd.read_csv(f\"{FILEPATH}/cqt_spectrograms/{folder}/test.csv\", index_col=None)\n",
    "        train = pd.read_csv(f\"{FILEPATH}/cqt_spectrograms/{folder}/test.csv\", index_col=None)\n",
    "\n",
    "        # Find index of highest accuracy in test set\n",
    "        idx_test = test['Accuracy'].idxmax()\n",
    "\n",
    "        # Get row with highest accuracy in test set\n",
    "        highest_test_row = test.loc[idx_test].copy()\n",
    "\n",
    "        # Rename and drop columns in the test row\n",
    "        highest_train_row = test.loc[idx_test].drop(columns=[\"Epoch\"]).rename({\"Accuracy\": \"Train Accuracy\", \"Test Loss\": \"Train Loss\", \"F1\": \"Train F1\", \"Recall\": \"Train Recall\", \"Precision\": \"Train Precision\", \"AUC-ROC\": \"Train AUC-ROC\", \"Confusion Matrix\": \"Train Confusion Matrix\"}).copy()\n",
    "\n",
    "        # Split folder name to extract information\n",
    "        info = folder.split('-')\n",
    "        data_info = {'type': 'cqt', 'n_fft': 0, 'hop_len': info[0], 'win_len': 0, 'n_mel': 0, 'n_mfcc': 0}\n",
    "\n",
    "        # Assign values to additional columns\n",
    "        for col, value in data_info.items():\n",
    "            highest_test_row[col] = value\n",
    "            highest_train_row[col] = value\n",
    "\n",
    "        full_row = pd.concat([highest_test_row, highest_train_row], axis=1)\n",
    "\n",
    "        # Append full_row to spectrograms DataFrame\n",
    "        spectrograms = pd.concat([spectrograms, full_row])\n",
    "\n",
    "print(spectrograms)"
   ]
  },
  {
   "cell_type": "markdown",
   "metadata": {},
   "source": [
    "# INPUT ENCODING -- DIRECT"
   ]
  },
  {
   "cell_type": "markdown",
   "metadata": {},
   "source": [
    "# INPUT ENCODING -- DIRECT TC"
   ]
  },
  {
   "cell_type": "markdown",
   "metadata": {},
   "source": [
    "# INPUT ENCODING -- THRESHOLD BASED AND STEP-FORWARD"
   ]
  },
  {
   "cell_type": "markdown",
   "metadata": {},
   "source": [
    "# INPUT ENCODING -- RATE (COUNT NUMBER)"
   ]
  },
  {
   "cell_type": "markdown",
   "metadata": {},
   "source": [
    "# INPUT ENCODING -- AUTOENCODER"
   ]
  },
  {
   "cell_type": "markdown",
   "metadata": {},
   "source": [
    "# ARCHITECTURE -- MLP-SNN (DECAY RATE)"
   ]
  }
 ],
 "metadata": {
  "kernelspec": {
   "display_name": "Python 3",
   "language": "python",
   "name": "python3"
  },
  "language_info": {
   "codemirror_mode": {
    "name": "ipython",
    "version": 3
   },
   "file_extension": ".py",
   "mimetype": "text/x-python",
   "name": "python",
   "nbconvert_exporter": "python",
   "pygments_lexer": "ipython3",
   "version": "3.11.8"
  }
 },
 "nbformat": 4,
 "nbformat_minor": 2
}
