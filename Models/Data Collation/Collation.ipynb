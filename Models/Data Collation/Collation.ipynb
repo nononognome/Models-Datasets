{
 "cells": [
  {
   "cell_type": "code",
   "execution_count": 1,
   "metadata": {},
   "outputs": [],
   "source": [
    "import pandas as pd\n",
    "from matplotlib import pyplot as plt\n",
    "import tikzplotlib\n",
    "import os"
   ]
  },
  {
   "cell_type": "markdown",
   "metadata": {},
   "source": [
    "# SPECTROGRAM ANN TYPES"
   ]
  },
  {
   "cell_type": "code",
   "execution_count": null,
   "metadata": {},
   "outputs": [],
   "source": [
    "SPECTROGRAMS = ['spectrograms', 'mel_spectrograms', 'mfcc_spectrograms', 'cqt_spectrograms']\n",
    "VARIABLES = ['n_fft', 'hop_length', 'win_length', 'n_mels', 'n_mfcc']"
   ]
  },
  {
   "cell_type": "code",
   "execution_count": 2,
   "metadata": {},
   "outputs": [],
   "source": [
    "FILEPATH = \"../IST non-JNB results/spectrogram_tensors\""
   ]
  },
  {
   "cell_type": "code",
   "execution_count": 31,
   "metadata": {},
   "outputs": [
    {
     "ename": "InvalidIndexError",
     "evalue": "Reindexing only valid with uniquely valued Index objects",
     "output_type": "error",
     "traceback": [
      "\u001b[0;31m---------------------------------------------------------------------------\u001b[0m",
      "\u001b[0;31mInvalidIndexError\u001b[0m                         Traceback (most recent call last)",
      "Cell \u001b[0;32mIn[31], line 33\u001b[0m\n\u001b[1;32m     29\u001b[0m         full_row \u001b[38;5;241m=\u001b[39m pd\u001b[38;5;241m.\u001b[39mconcat([highest_test_row, highest_train_row], axis\u001b[38;5;241m=\u001b[39m\u001b[38;5;241m1\u001b[39m)\n\u001b[1;32m     32\u001b[0m         \u001b[38;5;66;03m# Append full_row to spectrograms DataFrame\u001b[39;00m\n\u001b[0;32m---> 33\u001b[0m         spectrograms \u001b[38;5;241m=\u001b[39m \u001b[43mpd\u001b[49m\u001b[38;5;241;43m.\u001b[39;49m\u001b[43mconcat\u001b[49m\u001b[43m(\u001b[49m\u001b[43m[\u001b[49m\u001b[43mspectrograms\u001b[49m\u001b[43m,\u001b[49m\u001b[43m \u001b[49m\u001b[43mfull_row\u001b[49m\u001b[43m]\u001b[49m\u001b[43m)\u001b[49m\n\u001b[1;32m     36\u001b[0m \u001b[38;5;28;01mfor\u001b[39;00m folder \u001b[38;5;129;01min\u001b[39;00m os\u001b[38;5;241m.\u001b[39mlistdir(\u001b[38;5;124mf\u001b[39m\u001b[38;5;124m\"\u001b[39m\u001b[38;5;132;01m{\u001b[39;00mFILEPATH\u001b[38;5;132;01m}\u001b[39;00m\u001b[38;5;124m/mfcc_spectrograms\u001b[39m\u001b[38;5;124m\"\u001b[39m):\n\u001b[1;32m     37\u001b[0m     \u001b[38;5;28;01mif\u001b[39;00m folder \u001b[38;5;241m!=\u001b[39m \u001b[38;5;124m\"\u001b[39m\u001b[38;5;124m.DS_Store\u001b[39m\u001b[38;5;124m\"\u001b[39m:\n\u001b[1;32m     38\u001b[0m         \u001b[38;5;66;03m# Load data\u001b[39;00m\n",
      "File \u001b[0;32m/Library/Frameworks/Python.framework/Versions/3.11/lib/python3.11/site-packages/pandas/core/reshape/concat.py:393\u001b[0m, in \u001b[0;36mconcat\u001b[0;34m(objs, axis, join, ignore_index, keys, levels, names, verify_integrity, sort, copy)\u001b[0m\n\u001b[1;32m    378\u001b[0m     copy \u001b[38;5;241m=\u001b[39m \u001b[38;5;28;01mFalse\u001b[39;00m\n\u001b[1;32m    380\u001b[0m op \u001b[38;5;241m=\u001b[39m _Concatenator(\n\u001b[1;32m    381\u001b[0m     objs,\n\u001b[1;32m    382\u001b[0m     axis\u001b[38;5;241m=\u001b[39maxis,\n\u001b[0;32m   (...)\u001b[0m\n\u001b[1;32m    390\u001b[0m     sort\u001b[38;5;241m=\u001b[39msort,\n\u001b[1;32m    391\u001b[0m )\n\u001b[0;32m--> 393\u001b[0m \u001b[38;5;28;01mreturn\u001b[39;00m \u001b[43mop\u001b[49m\u001b[38;5;241;43m.\u001b[39;49m\u001b[43mget_result\u001b[49m\u001b[43m(\u001b[49m\u001b[43m)\u001b[49m\n",
      "File \u001b[0;32m/Library/Frameworks/Python.framework/Versions/3.11/lib/python3.11/site-packages/pandas/core/reshape/concat.py:678\u001b[0m, in \u001b[0;36m_Concatenator.get_result\u001b[0;34m(self)\u001b[0m\n\u001b[1;32m    676\u001b[0m         obj_labels \u001b[38;5;241m=\u001b[39m obj\u001b[38;5;241m.\u001b[39maxes[\u001b[38;5;241m1\u001b[39m \u001b[38;5;241m-\u001b[39m ax]\n\u001b[1;32m    677\u001b[0m         \u001b[38;5;28;01mif\u001b[39;00m \u001b[38;5;129;01mnot\u001b[39;00m new_labels\u001b[38;5;241m.\u001b[39mequals(obj_labels):\n\u001b[0;32m--> 678\u001b[0m             indexers[ax] \u001b[38;5;241m=\u001b[39m \u001b[43mobj_labels\u001b[49m\u001b[38;5;241;43m.\u001b[39;49m\u001b[43mget_indexer\u001b[49m\u001b[43m(\u001b[49m\u001b[43mnew_labels\u001b[49m\u001b[43m)\u001b[49m\n\u001b[1;32m    680\u001b[0m     mgrs_indexers\u001b[38;5;241m.\u001b[39mappend((obj\u001b[38;5;241m.\u001b[39m_mgr, indexers))\n\u001b[1;32m    682\u001b[0m new_data \u001b[38;5;241m=\u001b[39m concatenate_managers(\n\u001b[1;32m    683\u001b[0m     mgrs_indexers, \u001b[38;5;28mself\u001b[39m\u001b[38;5;241m.\u001b[39mnew_axes, concat_axis\u001b[38;5;241m=\u001b[39m\u001b[38;5;28mself\u001b[39m\u001b[38;5;241m.\u001b[39mbm_axis, copy\u001b[38;5;241m=\u001b[39m\u001b[38;5;28mself\u001b[39m\u001b[38;5;241m.\u001b[39mcopy\n\u001b[1;32m    684\u001b[0m )\n",
      "File \u001b[0;32m/Library/Frameworks/Python.framework/Versions/3.11/lib/python3.11/site-packages/pandas/core/indexes/base.py:3882\u001b[0m, in \u001b[0;36mIndex.get_indexer\u001b[0;34m(self, target, method, limit, tolerance)\u001b[0m\n\u001b[1;32m   3879\u001b[0m \u001b[38;5;28mself\u001b[39m\u001b[38;5;241m.\u001b[39m_check_indexing_method(method, limit, tolerance)\n\u001b[1;32m   3881\u001b[0m \u001b[38;5;28;01mif\u001b[39;00m \u001b[38;5;129;01mnot\u001b[39;00m \u001b[38;5;28mself\u001b[39m\u001b[38;5;241m.\u001b[39m_index_as_unique:\n\u001b[0;32m-> 3882\u001b[0m     \u001b[38;5;28;01mraise\u001b[39;00m InvalidIndexError(\u001b[38;5;28mself\u001b[39m\u001b[38;5;241m.\u001b[39m_requires_unique_msg)\n\u001b[1;32m   3884\u001b[0m \u001b[38;5;28;01mif\u001b[39;00m \u001b[38;5;28mlen\u001b[39m(target) \u001b[38;5;241m==\u001b[39m \u001b[38;5;241m0\u001b[39m:\n\u001b[1;32m   3885\u001b[0m     \u001b[38;5;28;01mreturn\u001b[39;00m np\u001b[38;5;241m.\u001b[39marray([], dtype\u001b[38;5;241m=\u001b[39mnp\u001b[38;5;241m.\u001b[39mintp)\n",
      "\u001b[0;31mInvalidIndexError\u001b[0m: Reindexing only valid with uniquely valued Index objects"
     ]
    }
   ],
   "source": [
    "columns = ['type', 'n_fft', 'hop_len', 'win_len', 'n_mel', 'n_mfcc', 'Accuracy', 'Epoch', 'Test Loss', 'F1', 'Recall', 'Precision', 'AUC-ROC', 'Confusion Matrix', 'Train Accuracy', 'Train Loss', 'Train F1', 'Train Recall', 'Train Precision', 'Train AUC-ROC', 'Train Confusion Matrix']\n",
    "spectrograms = pd.DataFrame(columns=columns)\n",
    "\n",
    "for folder in os.listdir(f\"{FILEPATH}/mel_spectrograms\"):\n",
    "    if folder != \".DS_Store\":\n",
    "        # Load data\n",
    "        test = pd.read_csv(f\"{FILEPATH}/mel_spectrograms/{folder}/test.csv\", index_col=None)\n",
    "        train = pd.read_csv(f\"{FILEPATH}/mel_spectrograms/{folder}/test.csv\", index_col=None)\n",
    "\n",
    "        test.drop(test.columns[0], axis=1, inplace=True)\n",
    "        train.drop(train.columns[0], axis=1, inplace=True)\n",
    "\n",
    "        # Find index of highest accuracy in test set\n",
    "        idx_test = test['Accuracy'].idxmax()\n",
    "\n",
    "        # Get row with highest accuracy in test set\n",
    "        highest_test_row = test.loc[idx_test].copy()\n",
    "\n",
    "        # Rename and drop columns in the test row\n",
    "        highest_train_row = test.loc[idx_test].drop(columns=[\"Epoch\"]).rename({\"Accuracy\": \"Train Accuracy\", \"Test Loss\": \"Train Loss\", \"F1\": \"Train F1\", \"Recall\": \"Train Recall\", \"Precision\": \"Train Precision\", \"AUC-ROC\": \"Train AUC-ROC\", \"Confusion Matrix\": \"Train Confusion Matrix\"}).copy()\n",
    "\n",
    "        # Split folder name to extract information\n",
    "        info = folder.split('-')\n",
    "        data_info = {'type': 'mel', 'n_fft': info[0], 'hop_len': info[1], 'win_len': info[2], 'n_mel': info[3], 'n_mfcc': 0}\n",
    "\n",
    "        # Assign values to additional columns\n",
    "        for col, value in data_info.items():\n",
    "            highest_test_row[col] = value\n",
    "            highest_train_row[col] = value\n",
    "\n",
    "        # Concatenate highest_test_row and highest_train_row along the column axis\n",
    "        full_row = pd.concat([highest_test_row, highest_train_row], axis=1)\n",
    "\n",
    "\n",
    "        # Append full_row to spectrograms DataFrame\n",
    "        spectrograms = pd.concat([spectrograms, full_row])\n",
    "\n",
    "\n",
    "for folder in os.listdir(f\"{FILEPATH}/mfcc_spectrograms\"):\n",
    "    if folder != \".DS_Store\":\n",
    "        # Load data\n",
    "        test = pd.read_csv(f\"{FILEPATH}/mfcc_spectrograms/{folder}/test.csv\", index_col=None)\n",
    "        train = pd.read_csv(f\"{FILEPATH}/mfcc_spectrograms/{folder}/test.csv\", index_col=None)\n",
    "\n",
    "        # Find index of highest accuracy in test set\n",
    "        idx_test = test['Accuracy'].idxmax()\n",
    "\n",
    "        # Get row with highest accuracy in test set\n",
    "        highest_test_row = test.loc[idx_test].copy()\n",
    "\n",
    "        # Rename and drop columns in the test row\n",
    "        highest_train_row = test.loc[idx_test].drop(columns=[\"Epoch\"]).rename({\"Accuracy\": \"Train Accuracy\", \"Test Loss\": \"Train Loss\", \"F1\": \"Train F1\", \"Recall\": \"Train Recall\", \"Precision\": \"Train Precision\", \"AUC-ROC\": \"Train AUC-ROC\", \"Confusion Matrix\": \"Train Confusion Matrix\"}).copy()\n",
    "\n",
    "        # Split folder name to extract information\n",
    "        info = folder.split('-')\n",
    "        data_info = {'type': 'mfcc', 'n_fft': info[0], 'hop_len': info[1], 'win_len': info[2], 'n_mel': info[3], 'n_mfcc': info[4]}\n",
    "\n",
    "        # Assign values to additional columns\n",
    "        for col, value in data_info.items():\n",
    "            highest_test_row[col] = value\n",
    "            highest_train_row[col] = value\n",
    "\n",
    "        # Concatenate highest_test_row and highest_train_row along the column axis\n",
    "        full_row = pd.concat([highest_test_row, highest_train_row], axis=1)\n",
    "\n",
    "        # Append full_row to spectrograms DataFrame\n",
    "        spectrograms = pd.concat([spectrograms, full_row])\n",
    "\n",
    "\n",
    "for folder in os.listdir(f\"{FILEPATH}/cqt_spectrograms\"):\n",
    "    if folder != \".DS_Store\":\n",
    "        # Load data\n",
    "        test = pd.read_csv(f\"{FILEPATH}/cqt_spectrograms/{folder}/test.csv\", index_col=None)\n",
    "        train = pd.read_csv(f\"{FILEPATH}/cqt_spectrograms/{folder}/test.csv\", index_col=None)\n",
    "\n",
    "        # Find index of highest accuracy in test set\n",
    "        idx_test = test['Accuracy'].idxmax()\n",
    "\n",
    "        # Get row with highest accuracy in test set\n",
    "        highest_test_row = test.loc[idx_test].copy()\n",
    "\n",
    "        # Rename and drop columns in the test row\n",
    "        highest_train_row = test.loc[idx_test].drop(columns=[\"Epoch\"]).rename({\"Accuracy\": \"Train Accuracy\", \"Test Loss\": \"Train Loss\", \"F1\": \"Train F1\", \"Recall\": \"Train Recall\", \"Precision\": \"Train Precision\", \"AUC-ROC\": \"Train AUC-ROC\", \"Confusion Matrix\": \"Train Confusion Matrix\"}).copy()\n",
    "\n",
    "        # Split folder name to extract information\n",
    "        info = folder.split('-')\n",
    "        data_info = {'type': 'cqt', 'n_fft': 0, 'hop_len': info[0], 'win_len': 0, 'n_mel': 0, 'n_mfcc': 0}\n",
    "\n",
    "        # Assign values to additional columns\n",
    "        for col, value in data_info.items():\n",
    "            highest_test_row[col] = value\n",
    "            highest_train_row[col] = value\n",
    "\n",
    "        full_row = pd.concat([highest_test_row, highest_train_row], axis=1)\n",
    "\n",
    "        # Append full_row to spectrograms DataFrame\n",
    "        spectrograms = pd.concat([spectrograms, full_row])\n",
    "\n",
    "print(spectrograms)"
   ]
  }
 ],
 "metadata": {
  "kernelspec": {
   "display_name": "Python 3",
   "language": "python",
   "name": "python3"
  },
  "language_info": {
   "codemirror_mode": {
    "name": "ipython",
    "version": 3
   },
   "file_extension": ".py",
   "mimetype": "text/x-python",
   "name": "python",
   "nbconvert_exporter": "python",
   "pygments_lexer": "ipython3",
   "version": "3.11.8"
  }
 },
 "nbformat": 4,
 "nbformat_minor": 2
}
